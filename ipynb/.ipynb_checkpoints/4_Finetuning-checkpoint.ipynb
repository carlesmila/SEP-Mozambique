{
 "cells": [
  {
   "cell_type": "markdown",
   "id": "6df84bc6",
   "metadata": {},
   "source": [
    "# Setup"
   ]
  },
  {
   "cell_type": "code",
   "execution_count": 1,
   "id": "791cd455",
   "metadata": {},
   "outputs": [],
   "source": [
    "import warnings\n",
    "warnings.filterwarnings('ignore')\n",
    "import os\n",
    "import glob\n",
    "import random\n",
    "import pandas as pd\n",
    "import matplotlib.pyplot as plt\n",
    "import seaborn as sns\n",
    "import numpy as np\n",
    "import re"
   ]
  },
  {
   "cell_type": "code",
   "execution_count": 2,
   "id": "aad252d3-687a-4b2a-a46f-feee0c1d8989",
   "metadata": {},
   "outputs": [],
   "source": [
    "# Define picture paths and tyes\n",
    "photopaths = ['foto' + str(i) for i in range(1,12)]\n",
    "photopaths = photopaths + ['satellite25', 'satellite100']\n",
    "photonames = ['Roof', 'Floor', 'Light source', 'Front door', 'Wall', 'Kitchen', \n",
    "              'Stove', 'Bathroom', 'Latrine', 'Street view', 'Water source',\n",
    "              'Satellite (25m buffer)', 'Satellite (100m buffer)']\n",
    "# Read data\n",
    "alldata = pd.read_csv('output/finetuning/'+ photopaths[0] +'_record.csv', index_col=None, header=0)\n",
    "alldata['Picture'] = photonames[0]\n",
    "for i in range(1,13):\n",
    "    data_i = pd.read_csv('output/finetuning/'+ photopaths[i] +'_record.csv', index_col=None, header=0)\n",
    "    data_i['Picture'] = photonames[i]\n",
    "    alldata = pd.concat([alldata, data_i])\n",
    "    del(data_i)\n",
    "\n",
    "# Prepare data \n",
    "alldata = pd.melt(alldata, id_vars = ['epoch', 'Picture'])\n",
    "alldata['Dataset'] = ['Train' if ('train' in i) else 'Test' for i in alldata['variable']]\n",
    "alldata['Metric'] = ['Loss' if ('loss' in i) else 'Accuracy assets' if ('assets_acc' in i) else 'Accuracy expenditure' if ('exp_acc' in i) else 'Accuracy income' \n",
    "                             for i in alldata['variable']]\n",
    "alldata = alldata.drop('variable', axis=1)"
   ]
  },
  {
   "cell_type": "code",
   "execution_count": 3,
   "id": "50d49163-a3ae-48b9-b795-8fb1278c7544",
   "metadata": {},
   "outputs": [],
   "source": [
    "# Filter test accuracy in epoch=50 (last)\n",
    "binary_results = alldata.loc[(alldata.epoch==50) & (alldata.Dataset==\"Test\") & (alldata.Metric!=\"Loss\")]\n",
    "\n",
    "# Prepare results table\n",
    "binary_results = binary_results[['Picture', 'Metric', 'value']]\n",
    "binary_results[\"Metric\"] = [re.sub(\"Accuracy \", \"\", x) for x in binary_results.Metric]\n",
    "binary_results = binary_results.pivot(index='Picture', columns='Metric', values='value').reset_index()\n",
    "binary_results.columns = ['Photograph', 'Assets', 'Expenditure', 'Income']\n",
    "\n",
    "# Order by average accuracy\n",
    "binary_results['ordertab'] = (binary_results['Assets'] + binary_results['Expenditure'] + binary_results['Income'])/3\n",
    "binary_results = binary_results.sort_values('ordertab', ascending = False)\n",
    "binary_results = binary_results.drop(columns = 'ordertab')"
   ]
  },
  {
   "cell_type": "code",
   "execution_count": 4,
   "id": "fe343df8-fdd2-4fd8-8a3c-9fa16dec59c0",
   "metadata": {},
   "outputs": [
    {
     "data": {
      "text/html": [
       "<style type=\"text/css\">\n",
       "</style>\n",
       "<table id=\"T_a94ee\">\n",
       "  <thead>\n",
       "    <tr>\n",
       "      <th id=\"T_a94ee_level0_col0\" class=\"col_heading level0 col0\" >Photograph</th>\n",
       "      <th id=\"T_a94ee_level0_col1\" class=\"col_heading level0 col1\" >Assets</th>\n",
       "      <th id=\"T_a94ee_level0_col2\" class=\"col_heading level0 col2\" >Expenditure</th>\n",
       "      <th id=\"T_a94ee_level0_col3\" class=\"col_heading level0 col3\" >Income</th>\n",
       "    </tr>\n",
       "  </thead>\n",
       "  <tbody>\n",
       "    <tr>\n",
       "      <td id=\"T_a94ee_row0_col0\" class=\"data row0 col0\" >Light source</td>\n",
       "      <td id=\"T_a94ee_row0_col1\" class=\"data row0 col1\" >0.77</td>\n",
       "      <td id=\"T_a94ee_row0_col2\" class=\"data row0 col2\" >0.70</td>\n",
       "      <td id=\"T_a94ee_row0_col3\" class=\"data row0 col3\" >0.64</td>\n",
       "    </tr>\n",
       "    <tr>\n",
       "      <td id=\"T_a94ee_row1_col0\" class=\"data row1 col0\" >Latrine</td>\n",
       "      <td id=\"T_a94ee_row1_col1\" class=\"data row1 col1\" >0.79</td>\n",
       "      <td id=\"T_a94ee_row1_col2\" class=\"data row1 col2\" >0.68</td>\n",
       "      <td id=\"T_a94ee_row1_col3\" class=\"data row1 col3\" >0.55</td>\n",
       "    </tr>\n",
       "    <tr>\n",
       "      <td id=\"T_a94ee_row2_col0\" class=\"data row2 col0\" >Kitchen</td>\n",
       "      <td id=\"T_a94ee_row2_col1\" class=\"data row2 col1\" >0.69</td>\n",
       "      <td id=\"T_a94ee_row2_col2\" class=\"data row2 col2\" >0.64</td>\n",
       "      <td id=\"T_a94ee_row2_col3\" class=\"data row2 col3\" >0.66</td>\n",
       "    </tr>\n",
       "    <tr>\n",
       "      <td id=\"T_a94ee_row3_col0\" class=\"data row3 col0\" >Bathroom</td>\n",
       "      <td id=\"T_a94ee_row3_col1\" class=\"data row3 col1\" >0.76</td>\n",
       "      <td id=\"T_a94ee_row3_col2\" class=\"data row3 col2\" >0.66</td>\n",
       "      <td id=\"T_a94ee_row3_col3\" class=\"data row3 col3\" >0.56</td>\n",
       "    </tr>\n",
       "    <tr>\n",
       "      <td id=\"T_a94ee_row4_col0\" class=\"data row4 col0\" >Water source</td>\n",
       "      <td id=\"T_a94ee_row4_col1\" class=\"data row4 col1\" >0.71</td>\n",
       "      <td id=\"T_a94ee_row4_col2\" class=\"data row4 col2\" >0.65</td>\n",
       "      <td id=\"T_a94ee_row4_col3\" class=\"data row4 col3\" >0.59</td>\n",
       "    </tr>\n",
       "    <tr>\n",
       "      <td id=\"T_a94ee_row5_col0\" class=\"data row5 col0\" >Front door</td>\n",
       "      <td id=\"T_a94ee_row5_col1\" class=\"data row5 col1\" >0.75</td>\n",
       "      <td id=\"T_a94ee_row5_col2\" class=\"data row5 col2\" >0.65</td>\n",
       "      <td id=\"T_a94ee_row5_col3\" class=\"data row5 col3\" >0.55</td>\n",
       "    </tr>\n",
       "    <tr>\n",
       "      <td id=\"T_a94ee_row6_col0\" class=\"data row6 col0\" >Satellite (25m buffer)</td>\n",
       "      <td id=\"T_a94ee_row6_col1\" class=\"data row6 col1\" >0.69</td>\n",
       "      <td id=\"T_a94ee_row6_col2\" class=\"data row6 col2\" >0.60</td>\n",
       "      <td id=\"T_a94ee_row6_col3\" class=\"data row6 col3\" >0.63</td>\n",
       "    </tr>\n",
       "    <tr>\n",
       "      <td id=\"T_a94ee_row7_col0\" class=\"data row7 col0\" >Stove</td>\n",
       "      <td id=\"T_a94ee_row7_col1\" class=\"data row7 col1\" >0.71</td>\n",
       "      <td id=\"T_a94ee_row7_col2\" class=\"data row7 col2\" >0.63</td>\n",
       "      <td id=\"T_a94ee_row7_col3\" class=\"data row7 col3\" >0.56</td>\n",
       "    </tr>\n",
       "    <tr>\n",
       "      <td id=\"T_a94ee_row8_col0\" class=\"data row8 col0\" >Wall</td>\n",
       "      <td id=\"T_a94ee_row8_col1\" class=\"data row8 col1\" >0.69</td>\n",
       "      <td id=\"T_a94ee_row8_col2\" class=\"data row8 col2\" >0.59</td>\n",
       "      <td id=\"T_a94ee_row8_col3\" class=\"data row8 col3\" >0.59</td>\n",
       "    </tr>\n",
       "    <tr>\n",
       "      <td id=\"T_a94ee_row9_col0\" class=\"data row9 col0\" >Floor</td>\n",
       "      <td id=\"T_a94ee_row9_col1\" class=\"data row9 col1\" >0.66</td>\n",
       "      <td id=\"T_a94ee_row9_col2\" class=\"data row9 col2\" >0.59</td>\n",
       "      <td id=\"T_a94ee_row9_col3\" class=\"data row9 col3\" >0.59</td>\n",
       "    </tr>\n",
       "    <tr>\n",
       "      <td id=\"T_a94ee_row10_col0\" class=\"data row10 col0\" >Roof</td>\n",
       "      <td id=\"T_a94ee_row10_col1\" class=\"data row10 col1\" >0.65</td>\n",
       "      <td id=\"T_a94ee_row10_col2\" class=\"data row10 col2\" >0.58</td>\n",
       "      <td id=\"T_a94ee_row10_col3\" class=\"data row10 col3\" >0.59</td>\n",
       "    </tr>\n",
       "    <tr>\n",
       "      <td id=\"T_a94ee_row11_col0\" class=\"data row11 col0\" >Satellite (100m buffer)</td>\n",
       "      <td id=\"T_a94ee_row11_col1\" class=\"data row11 col1\" >0.62</td>\n",
       "      <td id=\"T_a94ee_row11_col2\" class=\"data row11 col2\" >0.62</td>\n",
       "      <td id=\"T_a94ee_row11_col3\" class=\"data row11 col3\" >0.55</td>\n",
       "    </tr>\n",
       "    <tr>\n",
       "      <td id=\"T_a94ee_row12_col0\" class=\"data row12 col0\" >Street view</td>\n",
       "      <td id=\"T_a94ee_row12_col1\" class=\"data row12 col1\" >0.63</td>\n",
       "      <td id=\"T_a94ee_row12_col2\" class=\"data row12 col2\" >0.57</td>\n",
       "      <td id=\"T_a94ee_row12_col3\" class=\"data row12 col3\" >0.55</td>\n",
       "    </tr>\n",
       "  </tbody>\n",
       "</table>\n"
      ],
      "text/plain": [
       "<pandas.io.formats.style.Styler at 0x789727260210>"
      ]
     },
     "execution_count": 4,
     "metadata": {},
     "output_type": "execute_result"
    }
   ],
   "source": [
    "# Show\n",
    "binary_results = binary_results.style.format(decimal='.', thousands=',', precision=2).hide(axis=\"index\")\n",
    "binary_results"
   ]
  },
  {
   "cell_type": "code",
   "execution_count": 1,
   "id": "3f924be9-3d1c-4cea-a6a7-d4712849597b",
   "metadata": {},
   "outputs": [],
   "source": [
    "# print(binary_results.to_latex())"
   ]
  }
 ],
 "metadata": {
  "kernelspec": {
   "display_name": "Python 3 (ipykernel)",
   "language": "python",
   "name": "python3"
  },
  "language_info": {
   "codemirror_mode": {
    "name": "ipython",
    "version": 3
   },
   "file_extension": ".py",
   "mimetype": "text/x-python",
   "name": "python",
   "nbconvert_exporter": "python",
   "pygments_lexer": "ipython3",
   "version": "3.11.9"
  }
 },
 "nbformat": 4,
 "nbformat_minor": 5
}
