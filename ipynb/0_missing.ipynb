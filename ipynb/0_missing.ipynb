{
 "cells": [
  {
   "cell_type": "markdown",
   "id": "52a3f232-de03-4baf-9189-5736de730dc6",
   "metadata": {},
   "source": [
    "# Missing data table"
   ]
  },
  {
   "cell_type": "code",
   "execution_count": 6,
   "id": "578fa4ab-a8ca-428e-82ac-2e524ed29c91",
   "metadata": {},
   "outputs": [],
   "source": [
    "import warnings\n",
    "warnings.filterwarnings('ignore')\n",
    "import os\n",
    "import pandas as pd"
   ]
  },
  {
   "cell_type": "code",
   "execution_count": 7,
   "id": "91076879-dc17-4d83-a32c-b24bf90b8c36",
   "metadata": {},
   "outputs": [],
   "source": [
    "# Photograph data\n",
    "photos = pd.read_csv('data/clean/quest_clean.csv')\n",
    "alldata = photos[['household', 'foto1', 'foto2', 'foto3', 'foto4', 'foto5', 'foto6', 'foto7', 'foto8', 'foto9', 'foto10', 'foto11', 'satellite25', 'satellite100']]"
   ]
  },
  {
   "cell_type": "code",
   "execution_count": 8,
   "id": "10227aaa-0d10-4264-ad94-5f44c4e18a70",
   "metadata": {},
   "outputs": [],
   "source": [
    "# Missing data\n",
    "nan_count = alldata.drop('household', axis=1)\n",
    "nan_count = nan_count.isna().sum().to_frame()\n",
    "nan_count.columns = ['Count']\n",
    "nan_count['% of total samples'] = round(nan_count['Count']/975*100, 1).astype('str')\n",
    "nan_count['Variable'] = nan_count.index\n",
    "nan_count = nan_count[['Variable', 'Count', '% of total samples']]"
   ]
  },
  {
   "cell_type": "code",
   "execution_count": 9,
   "id": "1f9e8099-b5be-43e0-bd6b-9059ce6cdd27",
   "metadata": {},
   "outputs": [],
   "source": [
    "nan_count.Variable = ['Roof', 'Floor', 'Light source',\n",
    "                      'Front door', 'Wall', 'Kitchen',\n",
    "                      'Stove', 'Bathroom', 'Latrine',\n",
    "                      'Street view', 'Water source', \n",
    "                      'Satellite (25m buffer)', 'Satellite (100m buffer)']"
   ]
  },
  {
   "cell_type": "code",
   "execution_count": 10,
   "id": "632ef605-b149-47d2-8cc5-643ce4ada2c4",
   "metadata": {},
   "outputs": [
    {
     "data": {
      "text/html": [
       "<div>\n",
       "<style scoped>\n",
       "    .dataframe tbody tr th:only-of-type {\n",
       "        vertical-align: middle;\n",
       "    }\n",
       "\n",
       "    .dataframe tbody tr th {\n",
       "        vertical-align: top;\n",
       "    }\n",
       "\n",
       "    .dataframe thead th {\n",
       "        text-align: right;\n",
       "    }\n",
       "</style>\n",
       "<table border=\"1\" class=\"dataframe\">\n",
       "  <thead>\n",
       "    <tr style=\"text-align: right;\">\n",
       "      <th></th>\n",
       "      <th>Variable</th>\n",
       "      <th>Count</th>\n",
       "      <th>% of total samples</th>\n",
       "    </tr>\n",
       "  </thead>\n",
       "  <tbody>\n",
       "    <tr>\n",
       "      <th>foto1</th>\n",
       "      <td>Roof</td>\n",
       "      <td>11</td>\n",
       "      <td>1.1</td>\n",
       "    </tr>\n",
       "    <tr>\n",
       "      <th>foto2</th>\n",
       "      <td>Floor</td>\n",
       "      <td>3</td>\n",
       "      <td>0.3</td>\n",
       "    </tr>\n",
       "    <tr>\n",
       "      <th>foto3</th>\n",
       "      <td>Light source</td>\n",
       "      <td>16</td>\n",
       "      <td>1.6</td>\n",
       "    </tr>\n",
       "    <tr>\n",
       "      <th>foto4</th>\n",
       "      <td>Front door</td>\n",
       "      <td>5</td>\n",
       "      <td>0.5</td>\n",
       "    </tr>\n",
       "    <tr>\n",
       "      <th>foto5</th>\n",
       "      <td>Wall</td>\n",
       "      <td>3</td>\n",
       "      <td>0.3</td>\n",
       "    </tr>\n",
       "    <tr>\n",
       "      <th>foto6</th>\n",
       "      <td>Kitchen</td>\n",
       "      <td>39</td>\n",
       "      <td>4.0</td>\n",
       "    </tr>\n",
       "    <tr>\n",
       "      <th>foto7</th>\n",
       "      <td>Stove</td>\n",
       "      <td>7</td>\n",
       "      <td>0.7</td>\n",
       "    </tr>\n",
       "    <tr>\n",
       "      <th>foto8</th>\n",
       "      <td>Bathroom</td>\n",
       "      <td>7</td>\n",
       "      <td>0.7</td>\n",
       "    </tr>\n",
       "    <tr>\n",
       "      <th>foto9</th>\n",
       "      <td>Latrine</td>\n",
       "      <td>9</td>\n",
       "      <td>0.9</td>\n",
       "    </tr>\n",
       "    <tr>\n",
       "      <th>foto10</th>\n",
       "      <td>Street view</td>\n",
       "      <td>1</td>\n",
       "      <td>0.1</td>\n",
       "    </tr>\n",
       "    <tr>\n",
       "      <th>foto11</th>\n",
       "      <td>Water source</td>\n",
       "      <td>3</td>\n",
       "      <td>0.3</td>\n",
       "    </tr>\n",
       "    <tr>\n",
       "      <th>satellite25</th>\n",
       "      <td>Satellite (25m buffer)</td>\n",
       "      <td>0</td>\n",
       "      <td>0.0</td>\n",
       "    </tr>\n",
       "    <tr>\n",
       "      <th>satellite100</th>\n",
       "      <td>Satellite (100m buffer)</td>\n",
       "      <td>0</td>\n",
       "      <td>0.0</td>\n",
       "    </tr>\n",
       "  </tbody>\n",
       "</table>\n",
       "</div>"
      ],
      "text/plain": [
       "                             Variable  Count % of total samples\n",
       "foto1                            Roof     11                1.1\n",
       "foto2                           Floor      3                0.3\n",
       "foto3                    Light source     16                1.6\n",
       "foto4                      Front door      5                0.5\n",
       "foto5                            Wall      3                0.3\n",
       "foto6                         Kitchen     39                4.0\n",
       "foto7                           Stove      7                0.7\n",
       "foto8                        Bathroom      7                0.7\n",
       "foto9                         Latrine      9                0.9\n",
       "foto10                    Street view      1                0.1\n",
       "foto11                   Water source      3                0.3\n",
       "satellite25    Satellite (25m buffer)      0                0.0\n",
       "satellite100  Satellite (100m buffer)      0                0.0"
      ]
     },
     "execution_count": 10,
     "metadata": {},
     "output_type": "execute_result"
    }
   ],
   "source": [
    "nan_count"
   ]
  },
  {
   "cell_type": "code",
   "execution_count": 1,
   "id": "81734ee8-1df3-4486-81d6-7f2bbff9d285",
   "metadata": {},
   "outputs": [],
   "source": [
    "# print(nan_count.to_latex(index=False))"
   ]
  },
  {
   "cell_type": "code",
   "execution_count": null,
   "id": "ded7ec80-0285-48a0-b019-9df3ddeb35c8",
   "metadata": {},
   "outputs": [],
   "source": []
  }
 ],
 "metadata": {
  "kernelspec": {
   "display_name": "Python 3 (ipykernel)",
   "language": "python",
   "name": "python3"
  },
  "language_info": {
   "codemirror_mode": {
    "name": "ipython",
    "version": 3
   },
   "file_extension": ".py",
   "mimetype": "text/x-python",
   "name": "python",
   "nbconvert_exporter": "python",
   "pygments_lexer": "ipython3",
   "version": "3.11.9"
  }
 },
 "nbformat": 4,
 "nbformat_minor": 5
}
