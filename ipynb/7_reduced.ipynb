{
 "cells": [
  {
   "cell_type": "markdown",
   "id": "6df84bc6",
   "metadata": {},
   "source": [
    "# Setup"
   ]
  },
  {
   "cell_type": "code",
   "execution_count": 1,
   "id": "791cd455",
   "metadata": {},
   "outputs": [],
   "source": [
    "import warnings\n",
    "warnings.filterwarnings('ignore')\n",
    "import os\n",
    "import glob\n",
    "import pandas as pd\n",
    "import matplotlib.pyplot as plt\n",
    "import seaborn as sns\n",
    "from scipy.stats import pearsonr, spearmanr\n",
    "from sklearn.metrics import root_mean_squared_error"
   ]
  },
  {
   "cell_type": "markdown",
   "id": "dc1f091f",
   "metadata": {},
   "source": [
    "# Reduced model"
   ]
  },
  {
   "cell_type": "code",
   "execution_count": 2,
   "id": "04b771fb",
   "metadata": {},
   "outputs": [],
   "source": [
    "# Read data\n",
    "test_rf = pd.read_csv('output/supervised_tuning/test_results_rf.csv')\n",
    "reduced_rf = pd.read_csv('output/XAI/test_results_reduced.csv')"
   ]
  },
  {
   "cell_type": "code",
   "execution_count": 3,
   "id": "94d2c5a5-6502-4c52-9b94-7f4c0ec9549e",
   "metadata": {},
   "outputs": [
    {
     "data": {
      "text/html": [
       "<style type=\"text/css\">\n",
       "</style>\n",
       "<table id=\"T_453e3\">\n",
       "  <thead>\n",
       "    <tr>\n",
       "      <th id=\"T_453e3_level0_col0\" class=\"col_heading level0 col0\" >model</th>\n",
       "      <th id=\"T_453e3_level0_col1\" class=\"col_heading level0 col1\" >assets_r</th>\n",
       "      <th id=\"T_453e3_level0_col2\" class=\"col_heading level0 col2\" >assets_p</th>\n",
       "      <th id=\"T_453e3_level0_col3\" class=\"col_heading level0 col3\" >assets_rmse</th>\n",
       "      <th id=\"T_453e3_level0_col4\" class=\"col_heading level0 col4\" >exp_r</th>\n",
       "      <th id=\"T_453e3_level0_col5\" class=\"col_heading level0 col5\" >exp_p</th>\n",
       "      <th id=\"T_453e3_level0_col6\" class=\"col_heading level0 col6\" >exp_rmse</th>\n",
       "      <th id=\"T_453e3_level0_col7\" class=\"col_heading level0 col7\" >inc_r</th>\n",
       "      <th id=\"T_453e3_level0_col8\" class=\"col_heading level0 col8\" >inc_p</th>\n",
       "      <th id=\"T_453e3_level0_col9\" class=\"col_heading level0 col9\" >inc_rmse</th>\n",
       "    </tr>\n",
       "  </thead>\n",
       "  <tbody>\n",
       "    <tr>\n",
       "      <td id=\"T_453e3_row0_col0\" class=\"data row0 col0\" >Outdoor</td>\n",
       "      <td id=\"T_453e3_row0_col1\" class=\"data row0 col1\" >0.71</td>\n",
       "      <td id=\"T_453e3_row0_col2\" class=\"data row0 col2\" >0.70</td>\n",
       "      <td id=\"T_453e3_row0_col3\" class=\"data row0 col3\" >0.37</td>\n",
       "      <td id=\"T_453e3_row0_col4\" class=\"data row0 col4\" >0.48</td>\n",
       "      <td id=\"T_453e3_row0_col5\" class=\"data row0 col5\" >0.44</td>\n",
       "      <td id=\"T_453e3_row0_col6\" class=\"data row0 col6\" >5,223.62</td>\n",
       "      <td id=\"T_453e3_row0_col7\" class=\"data row0 col7\" >0.33</td>\n",
       "      <td id=\"T_453e3_row0_col8\" class=\"data row0 col8\" >0.40</td>\n",
       "      <td id=\"T_453e3_row0_col9\" class=\"data row0 col9\" >11,766.68</td>\n",
       "    </tr>\n",
       "    <tr>\n",
       "      <td id=\"T_453e3_row1_col0\" class=\"data row1 col0\" >Reduced</td>\n",
       "      <td id=\"T_453e3_row1_col1\" class=\"data row1 col1\" >0.79</td>\n",
       "      <td id=\"T_453e3_row1_col2\" class=\"data row1 col2\" >0.80</td>\n",
       "      <td id=\"T_453e3_row1_col3\" class=\"data row1 col3\" >0.32</td>\n",
       "      <td id=\"T_453e3_row1_col4\" class=\"data row1 col4\" >0.62</td>\n",
       "      <td id=\"T_453e3_row1_col5\" class=\"data row1 col5\" >0.51</td>\n",
       "      <td id=\"T_453e3_row1_col6\" class=\"data row1 col6\" >4,754.23</td>\n",
       "      <td id=\"T_453e3_row1_col7\" class=\"data row1 col7\" >0.36</td>\n",
       "      <td id=\"T_453e3_row1_col8\" class=\"data row1 col8\" >0.39</td>\n",
       "      <td id=\"T_453e3_row1_col9\" class=\"data row1 col9\" >11,748.99</td>\n",
       "    </tr>\n",
       "    <tr>\n",
       "      <td id=\"T_453e3_row2_col0\" class=\"data row2 col0\" >Complete</td>\n",
       "      <td id=\"T_453e3_row2_col1\" class=\"data row2 col1\" >0.85</td>\n",
       "      <td id=\"T_453e3_row2_col2\" class=\"data row2 col2\" >0.85</td>\n",
       "      <td id=\"T_453e3_row2_col3\" class=\"data row2 col3\" >0.28</td>\n",
       "      <td id=\"T_453e3_row2_col4\" class=\"data row2 col4\" >0.62</td>\n",
       "      <td id=\"T_453e3_row2_col5\" class=\"data row2 col5\" >0.58</td>\n",
       "      <td id=\"T_453e3_row2_col6\" class=\"data row2 col6\" >4,664.39</td>\n",
       "      <td id=\"T_453e3_row2_col7\" class=\"data row2 col7\" >0.47</td>\n",
       "      <td id=\"T_453e3_row2_col8\" class=\"data row2 col8\" >0.50</td>\n",
       "      <td id=\"T_453e3_row2_col9\" class=\"data row2 col9\" >11,261.17</td>\n",
       "    </tr>\n",
       "  </tbody>\n",
       "</table>\n"
      ],
      "text/plain": [
       "<pandas.io.formats.style.Styler at 0x7c6c2e0f4050>"
      ]
     },
     "execution_count": 3,
     "metadata": {},
     "output_type": "execute_result"
    }
   ],
   "source": [
    "r1 = {\n",
    "    'model': 'Outdoor',\n",
    "    'assets_r': round(pearsonr(test_rf.assets_true, test_rf.assets_outdoor)[0], 2),\n",
    "    'assets_p': round(spearmanr(test_rf.assets_true, test_rf.assets_outdoor)[0], 2),\n",
    "    'assets_rmse': round(root_mean_squared_error(test_rf.assets_true, test_rf.assets_outdoor), 2),\n",
    "    'exp_r': round(pearsonr(test_rf.exp_true, test_rf.exp_outdoor)[0], 2),\n",
    "    'exp_p': round(spearmanr(test_rf.exp_true, test_rf.exp_outdoor)[0], 2),\n",
    "    'exp_rmse': round(root_mean_squared_error(test_rf.exp_true, test_rf.exp_outdoor), 2),\n",
    "    'inc_r': round(pearsonr(test_rf.inc_true, test_rf.inc_outdoor)[0], 2),\n",
    "    'inc_p': round(spearmanr(test_rf.inc_true, test_rf.inc_outdoor)[0], 2),\n",
    "    'inc_rmse': round(root_mean_squared_error(test_rf.inc_true, test_rf.inc_outdoor), 2),\n",
    "}\n",
    "r2 = {\n",
    "    'model': 'Reduced',\n",
    "    'assets_r': round(pearsonr(reduced_rf.assets_true, reduced_rf.assets_reduced)[0], 2),\n",
    "    'assets_p': round(spearmanr(reduced_rf.assets_true, reduced_rf.assets_reduced)[0], 2),\n",
    "    'assets_rmse': round(root_mean_squared_error(reduced_rf.assets_true, reduced_rf.assets_reduced), 2),\n",
    "    'exp_r': round(pearsonr(reduced_rf.exp_true, reduced_rf.exp_reduced)[0], 2),\n",
    "    'exp_p': round(spearmanr(reduced_rf.exp_true, reduced_rf.exp_reduced)[0], 2),\n",
    "    'exp_rmse': round(root_mean_squared_error(reduced_rf.exp_true, reduced_rf.exp_reduced), 2),\n",
    "    'inc_r': round(pearsonr(reduced_rf.inc_true, reduced_rf.inc_reduced)[0], 2),\n",
    "    'inc_p': round(spearmanr(reduced_rf.inc_true, reduced_rf.inc_reduced)[0], 2),\n",
    "    'inc_rmse': round(root_mean_squared_error(reduced_rf.inc_true, reduced_rf.inc_reduced), 2),\n",
    "}\n",
    "r3 = {\n",
    "    'model': 'Complete',\n",
    "    'assets_r': round(pearsonr(test_rf.assets_true, test_rf.assets_all)[0], 2),\n",
    "    'assets_p': round(spearmanr(test_rf.assets_true, test_rf.assets_all)[0], 2),\n",
    "    'assets_rmse': round(root_mean_squared_error(test_rf.assets_true, test_rf.assets_all), 2),\n",
    "    'exp_r': round(pearsonr(test_rf.exp_true, test_rf.exp_all)[0], 2),\n",
    "    'exp_p': round(spearmanr(test_rf.exp_true, test_rf.exp_all)[0], 2),\n",
    "    'exp_rmse': round(root_mean_squared_error(test_rf.exp_true, test_rf.exp_all), 2),\n",
    "    'inc_r': round(pearsonr(test_rf.inc_true, test_rf.inc_all)[0], 2),\n",
    "    'inc_p': round(spearmanr(test_rf.inc_true, test_rf.inc_all)[0], 2),\n",
    "    'inc_rmse': round(root_mean_squared_error(test_rf.inc_true, test_rf.inc_all), 2),\n",
    "}\n",
    "results = pd.concat([pd.DataFrame(r1, index=[0]), pd.DataFrame(r2, index=[0]), pd.DataFrame(r3, index=[0])])\n",
    "results = results.style.format(decimal='.', thousands=',', precision=2).hide(axis=\"index\")\n",
    "results"
   ]
  },
  {
   "cell_type": "code",
   "execution_count": 1,
   "id": "5e4f3e9c",
   "metadata": {},
   "outputs": [],
   "source": [
    "#print(results.to_latex())"
   ]
  }
 ],
 "metadata": {
  "kernelspec": {
   "display_name": "Python 3 (ipykernel)",
   "language": "python",
   "name": "python3"
  },
  "language_info": {
   "codemirror_mode": {
    "name": "ipython",
    "version": 3
   },
   "file_extension": ".py",
   "mimetype": "text/x-python",
   "name": "python",
   "nbconvert_exporter": "python",
   "pygments_lexer": "ipython3",
   "version": "3.11.9"
  }
 },
 "nbformat": 4,
 "nbformat_minor": 5
}
